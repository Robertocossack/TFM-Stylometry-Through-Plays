{
 "cells": [
  {
   "cell_type": "code",
   "execution_count": 1,
   "metadata": {
    "scrolled": true
   },
   "outputs": [],
   "source": [
    "import matplotlib.pyplot as plt\n",
    "import matplotlib.patches as mpatches\n",
    "from sklearn.feature_extraction.text import TfidfVectorizer\n",
    "from sklearn.metrics.pairwise import cosine_distances, euclidean_distances\n",
    "from scipy.cluster.hierarchy import linkage, dendrogram\n",
    "from ipywidgets import interact\n",
    "import warnings\n",
    "warnings.filterwarnings('ignore') # Ignores the warning massages that appear after the visualitation"
   ]
  },
  {
   "cell_type": "code",
   "execution_count": 2,
   "metadata": {
    "scrolled": true
   },
   "outputs": [],
   "source": [
    "vectorizer = TfidfVectorizer(use_idf=False)\n",
    "vectorizer_idf = TfidfVectorizer(use_idf=True)"
   ]
  },
  {
   "cell_type": "code",
   "execution_count": 3,
   "metadata": {
    "scrolled": true
   },
   "outputs": [],
   "source": [
    "%store -r"
   ]
  },
  {
   "cell_type": "markdown",
   "metadata": {},
   "source": [
    "## Functions"
   ]
  },
  {
   "cell_type": "code",
   "execution_count": 4,
   "metadata": {
    "scrolled": true
   },
   "outputs": [],
   "source": [
    "def string_unifier (speeches):\n",
    "    '''Unifies all the speech lines into\n",
    "    one single string'''\n",
    "    result = []\n",
    "    for speech in speeches:\n",
    "        output =  \" \".join(speech)\n",
    "        result.append(output)\n",
    "    return result"
   ]
  },
  {
   "cell_type": "code",
   "execution_count": 5,
   "metadata": {
    "scrolled": true
   },
   "outputs": [],
   "source": [
    "def dendrogram_plotter (author_characters, distances_metric, n_chart, n_labels, vectorizer_type):\n",
    "    '''It takes a dict in the form of name:list of speeches, a distance metric,\n",
    "    and two measurements of size. It returns a dendrogram'''\n",
    "    names = list(author_characters.keys())\n",
    "    speeches = list(author_characters.values())\n",
    "    speeches = string_unifier(speeches)\n",
    "    matrix = vectorizer_type.fit_transform(speeches) #It creates a matrix of vectors out of the speeches\n",
    "    similarity = distances_metric(matrix) # It measures the distance between vectors\n",
    "    linkages = linkage(similarity, 'ward') # It performs the clustering\n",
    "    plt.figure(figsize=(n_chart, n_chart))\n",
    "    dendrogram(linkages, labels = names, orientation = \"right\", leaf_font_size = n_labels)\n",
    "    plt.tick_params(axis = 'both', bottom = False, labelbottom = False)\n",
    "    plt.show()"
   ]
  },
  {
   "cell_type": "code",
   "execution_count": 6,
   "metadata": {
    "scrolled": true
   },
   "outputs": [],
   "source": [
    "def dendrogram_plotter_color_author (author_characters, distances_metric, n_chart, n_labels, color_dict, vectorizer_type):\n",
    "    '''It takes a dict in the form of name:list of speeches, a distance metric,\n",
    "    two measurements of size, and a second dictionary in the form of name: color. \n",
    "    It returns a dendrogram'''\n",
    "    names = list(author_characters.keys())\n",
    "    speeches = list(author_characters.values())\n",
    "    speeches = string_unifier(speeches)\n",
    "    matrix = vectorizer_type.fit_transform(speeches)\n",
    "    similarity = distances_metric(matrix)\n",
    "    linkages = linkage(similarity, 'ward')\n",
    "    plt.figure(figsize=(n_chart, n_chart))\n",
    "    dendrogram(linkages, labels = names, orientation = \"right\", leaf_font_size = n_labels)\n",
    "    labels = plt.gca().get_yticklabels() # It creates an object for enable iterative loops for y labels\n",
    "    for label in labels:\n",
    "        label.set_color(color_dict[label.get_text()]) \n",
    "    if color_dict == wilde_character_colors:\n",
    "        aih_patch = mpatches.Patch(color='magenta', label='An Ideal Husband')\n",
    "        awoni_patch = mpatches.Patch(color='navy', label='A Woman of No Importance')\n",
    "        lwf_patch = mpatches.Patch(color='lime', label=\"Lady Windermere's Fan\")\n",
    "        tiobce_patch = mpatches.Patch(color='goldenrod', label= 'The Importance of Being Called Earnest') \n",
    "        plt.legend(handles=[aih_patch, awoni_patch, lwf_patch, tiobce_patch])\n",
    "    elif color_dict == shaw_character_colors:\n",
    "        p_patch = mpatches.Patch(color='magenta', label='Pygmalion')\n",
    "        aatl_patch = mpatches.Patch(color='navy', label='Androcles and the Lion')\n",
    "        cac_patch = mpatches.Patch(color='lime', label='Caesar and Cleopatra')\n",
    "        c_patch = mpatches.Patch(color='goldenrod', label= 'Candida')\n",
    "        mas_patch = mpatches.Patch(color='skyblue', label= 'Man and Superman')\n",
    "        plt.legend(handles=[p_patch, aatl_patch, cac_patch, c_patch, mas_patch])\n",
    "    elif color_dict == jonson_character_colors:\n",
    "        cr_patch = mpatches.Patch(color='magenta', label=\"Cynthia's Revels\")\n",
    "        evohh_patch = mpatches.Patch(color='navy', label='Every Man on his Humor')\n",
    "        votf_patch = mpatches.Patch(color='lime', label='Volpone, or the Fox')\n",
    "        ta_patch = mpatches.Patch(color='goldenrod', label= 'The Alchemist')\n",
    "        plt.legend(handles=[cr_patch, evohh_patch, votf_patch, ta_patch])\n",
    "    elif color_dict == shakespeare_character_colors:\n",
    "        m_patch = mpatches.Patch(color='magenta', label='Macbeth')\n",
    "        raj_patch = mpatches.Patch(color='navy', label='Romeo and Juliet')\n",
    "        o_patch = mpatches.Patch(color='lime', label='Othello')\n",
    "        h_patch = mpatches.Patch(color='goldenrod', label= 'Hamlet')\n",
    "        kl_patch = mpatches.Patch(color='skyblue', label= 'King Lear')\n",
    "        plt.legend(handles=[m_patch, raj_patch, o_patch, h_patch, kl_patch])\n",
    "    elif color_dict == schiller_character_colors:\n",
    "        kul_patch = mpatches.Patch(color='magenta', label='Kabale und Liebe')\n",
    "        dvdfzg_patch = mpatches.Patch(color='navy', label='Die Verschwoerung des Fiesco zu Genua')\n",
    "        dr_patch = mpatches.Patch(color='lime', label='Die Räuber')\n",
    "        djfvo_patch = mpatches.Patch(color='goldenrod', label= 'Die Junge Frau von Orleans')\n",
    "        plt.legend(handles=[kul_patch, dvdfzg_patch, dr_patch, djfvo_patch])\n",
    "    elif color_dict == goethe_character_colors:\n",
    "        f_patch = mpatches.Patch(color='magenta', label='Faust')\n",
    "        f2_patch = mpatches.Patch(color='navy', label='Faust II')\n",
    "        e_patch = mpatches.Patch(color='lime', label='Egmont')\n",
    "        iat_patch = mpatches.Patch(color='goldenrod', label= 'Iphigenie auf Tauris')\n",
    "        dldv_patch = mpatches.Patch(color='skyblue', label= 'Die Laune de Verliebten')\n",
    "        plt.legend(handles=[f_patch, f2_patch, e_patch, iat_patch, dldv_patch])\n",
    "    plt.tick_params(axis = 'both', bottom = False, labelbottom = False)\n",
    "    plt.show()\n",
    "    "
   ]
  },
  {
   "cell_type": "code",
   "execution_count": 7,
   "metadata": {},
   "outputs": [],
   "source": [
    "def dendrogram_plotter_color_authors_top (author_characters, distances_metric, n_chart, n_labels, color_dict, vectorizer_type):\n",
    "    '''It takes a dict in the form of name:list of speeches, a distance metric,\n",
    "    two measurements of size, and a second dictionary in the form of name: color. \n",
    "    It returns a dendrogram'''\n",
    "    names = list(author_characters.keys())\n",
    "    speeches = list(author_characters.values())\n",
    "    speeches = string_unifier(speeches)\n",
    "    matrix = vectorizer_type.fit_transform(speeches)\n",
    "    similarity = distances_metric(matrix)\n",
    "    linkages = linkage(similarity, 'ward')\n",
    "    plt.figure(figsize=(n_chart, n_chart))\n",
    "    dendrogram(linkages, labels = names, orientation = \"right\", leaf_font_size = n_labels)\n",
    "    labels = plt.gca().get_yticklabels()\n",
    "    for label in labels:\n",
    "        label.set_color(color_dict[label.get_text()])\n",
    "    if color_dict == wilde_character_colors_top:\n",
    "        under4000_patch = mpatches.Patch(color='red', label='Under 4000 words')\n",
    "        over4000_patch = mpatches.Patch(color='black', label='Over 4000 words')       \n",
    "        plt.legend(handles=[under4000_patch, over4000_patch])\n",
    "    elif color_dict == shaw_character_colors_top:\n",
    "        under4000_patch = mpatches.Patch(color='red', label='Under 4000 words')\n",
    "        over4000_patch = mpatches.Patch(color='black', label='Over 4000 words')\n",
    "        plt.legend(handles=[under4000_patch, over4000_patch])\n",
    "    elif color_dict == jonson_character_colors_top:\n",
    "        under4000_patch = mpatches.Patch(color='red', label='Under 4000 words')\n",
    "        over4000_patch = mpatches.Patch(color='black', label='Over 4000 words')\n",
    "        plt.legend(handles=[under4000_patch, over4000_patch])\n",
    "    elif color_dict == shakespeare_character_colors_top:\n",
    "        under4000_patch = mpatches.Patch(color='red', label='Under 4000 words')\n",
    "        over4000_patch = mpatches.Patch(color='black', label='Over 4000 words')\n",
    "        plt.legend(handles=[under4000_patch, over4000_patch])\n",
    "    elif color_dict == schiller_character_colors_top:\n",
    "        under4000_patch = mpatches.Patch(color='red', label='Under 4000 words')\n",
    "        over4000_patch = mpatches.Patch(color='black', label='Over 4000 words')  \n",
    "        plt.legend(handles=[under4000_patch, over4000_patch])\n",
    "    elif color_dict == goethe_character_colors_top:\n",
    "        under4000_patch = mpatches.Patch(color='red', label='Under 4000 words')\n",
    "        over4000_patch = mpatches.Patch(color='black', label='Over 4000 words')\n",
    "        plt.legend(handles=[under4000_patch, over4000_patch])\n",
    "    plt.tick_params(axis = 'both', bottom = False, labelbottom = False)\n",
    "    plt.show()\n",
    "    "
   ]
  },
  {
   "cell_type": "code",
   "execution_count": 8,
   "metadata": {
    "scrolled": true
   },
   "outputs": [],
   "source": [
    "def dendrogram_plotter_color_all_plays (author_characters, distances_metric, n_chart, n_labels, color_dict, vectorizer_type):\n",
    "    '''It takes a dict in the form of name:list of speeches, a distance metric,\n",
    "    two measurements of size, and a second dictionary in the form of name: color. \n",
    "    It returns a dendrogram'''\n",
    "    names = list(author_characters.keys())\n",
    "    speeches = list(author_characters.values())\n",
    "    speeches = string_unifier(speeches)\n",
    "    matrix = vectorizer_type.fit_transform(speeches)\n",
    "    similarity = distances_metric(matrix)\n",
    "    linkages = linkage(similarity, 'ward')\n",
    "    plt.figure(figsize=(n_chart, n_chart))\n",
    "    dendrogram(linkages, labels = names, orientation = \"right\", leaf_font_size = n_labels)\n",
    "    labels = plt.gca().get_yticklabels()\n",
    "    for label in labels:\n",
    "        label.set_color(color_dict[label.get_text()])\n",
    "    if color_dict == english_character_colors:\n",
    "        print('                                          All English Authors Characters')\n",
    "        wilde_patch = mpatches.Patch(color='magenta', label='Wilde')\n",
    "        shaw_patch = mpatches.Patch(color='navy', label='Shaw')\n",
    "        jonson_patch = mpatches.Patch(color='lime', label='Jonson')\n",
    "        shakespeare_patch = mpatches.Patch(color='goldenrod', label='Shakespeare') \n",
    "        plt.legend(handles=[wilde_patch, shaw_patch, jonson_patch, shakespeare_patch])\n",
    "    elif color_dict == german_character_colors:\n",
    "        print('                                    Both German Authors Characters')\n",
    "        schiller_patch = mpatches.Patch(color='magenta', label='Schiller')\n",
    "        goethe_patch = mpatches.Patch(color='navy', label='Goethe') \n",
    "        plt.legend(handles=[schiller_patch, goethe_patch])\n",
    "    plt.tick_params(axis = 'both', bottom = False, labelbottom = False)\n",
    "    plt.show()"
   ]
  },
  {
   "cell_type": "code",
   "execution_count": 9,
   "metadata": {
    "scrolled": true
   },
   "outputs": [],
   "source": [
    "def color_assigner (author_characters, color):\n",
    "    '''It generates a dict where the keys remain as names,\n",
    "    and the values are the assigned color'''\n",
    "    result = {}\n",
    "    for char in author_characters:\n",
    "        result[char] = color\n",
    "    return result"
   ]
  },
  {
   "cell_type": "code",
   "execution_count": 10,
   "metadata": {},
   "outputs": [],
   "source": [
    "def color_assigner_top (author_characters, top_list):\n",
    "    '''It creates a dict in the form of name:color,\n",
    "    filtering by the given list'''\n",
    "    result = {}\n",
    "    for char in author_characters:\n",
    "        if char in top_list:\n",
    "            result[char]='black'\n",
    "        else:\n",
    "            result[char] = 'red'\n",
    "    return result"
   ]
  },
  {
   "cell_type": "markdown",
   "metadata": {},
   "source": [
    "# English Authors"
   ]
  },
  {
   "cell_type": "markdown",
   "metadata": {},
   "source": [
    "## Oscar Wilde"
   ]
  },
  {
   "cell_type": "code",
   "execution_count": 11,
   "metadata": {
    "scrolled": true
   },
   "outputs": [],
   "source": [
    "# Generating color dicts for every single play\n",
    "aih_color = color_assigner(an_ideal_husband_characters, 'magenta')\n",
    "awoni_color = color_assigner(a_woman_of_no_importance_characters, 'navy')\n",
    "lwf_color = color_assigner(lady_windermeres_fan_characters, 'lime')\n",
    "tiobce_color = color_assigner(the_importance_of_being_earnest_characters, 'goldenrod')"
   ]
  },
  {
   "cell_type": "code",
   "execution_count": 12,
   "metadata": {
    "scrolled": true
   },
   "outputs": [],
   "source": [
    "wilde_character_colors = {**aih_color, **awoni_color, **lwf_color, **tiobce_color}"
   ]
  },
  {
   "cell_type": "code",
   "execution_count": 13,
   "metadata": {},
   "outputs": [],
   "source": [
    "# Generating the color dict filtering by the top characters dict (+4000 words)\n",
    "wilde_top_7_characters = ['Goring', 'Chiltern', 'Cheveley', 'Illingorth', 'Lady Windermere', 'Algernon', 'Jack']\n",
    "wilde_character_colors_top = color_assigner_top(wilde_characters, wilde_top_7_characters)"
   ]
  },
  {
   "cell_type": "code",
   "execution_count": 14,
   "metadata": {},
   "outputs": [
    {
     "data": {
      "application/vnd.jupyter.widget-view+json": {
       "model_id": "5f41123981b94742bfadde44bb52951c",
       "version_major": 2,
       "version_minor": 0
      },
      "text/plain": [
       "interactive(children=(Dropdown(description='Filter', options=('Raw', 'Plays Characters', 'Top Characters'), va…"
      ]
     },
     "metadata": {},
     "output_type": "display_data"
    }
   ],
   "source": [
    "# The decorator interact let us interact with the function through the selected arguments\n",
    "@interact(Filter=['Raw', 'Plays Characters', 'Top Characters'], Distances = [euclidean_distances, cosine_distances], Vectorizer = ['Lexical Style', 'Content Style'])\n",
    "def wilde_interact (Filter, Distances, Vectorizer):\n",
    "    if Filter == 'Raw':\n",
    "        if Vectorizer == 'Lexical Style':\n",
    "            print('                                   Oscar Wilde')\n",
    "            dendrogram_plotter(wilde_characters, Distances, 9, 10, vectorizer)\n",
    "        if Vectorizer == 'Content Style':\n",
    "            print('                                   Oscar Wilde')\n",
    "            dendrogram_plotter(wilde_characters, Distances, 9, 10, vectorizer_idf)\n",
    "    if Filter == 'Plays Characters':\n",
    "        if Vectorizer == 'Lexical Style':\n",
    "            print('                                   Oscar Wilde')\n",
    "            dendrogram_plotter_color_author(wilde_characters, Distances, 9, 10, wilde_character_colors, vectorizer)\n",
    "        if Vectorizer == 'Content Style':\n",
    "            print('                                   Oscar Wilde')\n",
    "            dendrogram_plotter_color_author(wilde_characters, Distances, 9, 10, wilde_character_colors, vectorizer_idf)\n",
    "    if Filter == 'Top Characters':\n",
    "        if Vectorizer == 'Lexical Style':\n",
    "            print('                                   Oscar Wilde')\n",
    "            dendrogram_plotter_color_authors_top(wilde_characters, Distances, 9, 10, wilde_character_colors_top, vectorizer)\n",
    "        if Vectorizer == 'Content Style':\n",
    "            print('                                   Oscar Wilde')\n",
    "            dendrogram_plotter_color_authors_top(wilde_characters, Distances, 9, 10, wilde_character_colors_top, vectorizer_idf)"
   ]
  },
  {
   "cell_type": "markdown",
   "metadata": {},
   "source": [
    "## George Bernard Shaw"
   ]
  },
  {
   "cell_type": "code",
   "execution_count": 17,
   "metadata": {
    "scrolled": true
   },
   "outputs": [],
   "source": [
    "p_color = color_assigner(pygmalion_characters, 'magenta')\n",
    "aatl_color = color_assigner(androcles_and_the_lion_characters,'navy')\n",
    "cac_color = color_assigner(caesar_and_cleopatra_characters, 'lime')\n",
    "c_color = color_assigner(candida_characters, 'goldenrod')\n",
    "mas_color = color_assigner(man_and_superman_characters, 'skyblue')"
   ]
  },
  {
   "cell_type": "code",
   "execution_count": 18,
   "metadata": {
    "scrolled": true
   },
   "outputs": [],
   "source": [
    "shaw_character_colors = {**p_color, **aatl_color, **cac_color,**c_color, **mas_color}"
   ]
  },
  {
   "cell_type": "code",
   "execution_count": 19,
   "metadata": {},
   "outputs": [],
   "source": [
    "shaw_top_7_characters = ['Higgins', 'Liza', 'Caesar', 'Cleopatra', 'Morell', 'Tanner', 'Don Juan']\n",
    "shaw_character_colors_top = color_assigner_top(shaw_characters, shaw_top_7_characters)"
   ]
  },
  {
   "cell_type": "code",
   "execution_count": 21,
   "metadata": {},
   "outputs": [
    {
     "data": {
      "application/vnd.jupyter.widget-view+json": {
       "model_id": "6b4ee1df306a48438ae26b903cee577a",
       "version_major": 2,
       "version_minor": 0
      },
      "text/plain": [
       "interactive(children=(Dropdown(description='Filter', options=('Raw', 'Plays Characters', 'Top Characters'), va…"
      ]
     },
     "metadata": {},
     "output_type": "display_data"
    }
   ],
   "source": [
    "@interact(Filter=['Raw', 'Plays Characters', 'Top Characters'], Distances = [euclidean_distances, cosine_distances], Vectorizer = ['Lexical Style', 'Content Style'])\n",
    "def shaw_authors (Filter, Distances, Vectorizer):\n",
    "    if Filter == 'Raw':\n",
    "        if Vectorizer == 'Lexical Style':\n",
    "            print('                             George Bernard Shaw')\n",
    "            dendrogram_plotter(shaw_characters, Distances, 9, 10, vectorizer)\n",
    "        if Vectorizer == 'Content Style':\n",
    "            print('                             George Bernard Shaw')\n",
    "            dendrogram_plotter(shaw_characters, Distances, 9, 10, vectorizer_idf)\n",
    "    if Filter == 'Plays Characters':\n",
    "        if Vectorizer == 'Lexical Style':\n",
    "            print('                             George Bernard Shaw')\n",
    "            dendrogram_plotter_color_author(shaw_characters, Distances, 9, 10, shaw_character_colors, vectorizer)\n",
    "        if Vectorizer == 'Content Style':\n",
    "            print('                             George Bernard Shaw')\n",
    "            dendrogram_plotter_color_author(shaw_characters, Distances, 9, 10, shaw_character_colors, vectorizer_idf)\n",
    "    if Filter == 'Top Characters':\n",
    "        if Vectorizer == 'Lexical Style':\n",
    "            print('                             George Bernard Shaw')\n",
    "            dendrogram_plotter_color_authors_top(shaw_characters, Distances, 9, 10, shaw_character_colors_top, vectorizer)\n",
    "        if Vectorizer == 'Content Style':\n",
    "            print('                             George Bernard Shaw')\n",
    "            dendrogram_plotter_color_authors_top(shaw_characters, Distances, 9, 10, shaw_character_colors_top, vectorizer_idf)\n"
   ]
  },
  {
   "cell_type": "markdown",
   "metadata": {},
   "source": [
    "## Ben Jonson"
   ]
  },
  {
   "cell_type": "code",
   "execution_count": 23,
   "metadata": {
    "scrolled": true
   },
   "outputs": [],
   "source": [
    "cr_colors = color_assigner(cynthias_revels_characters, 'magenta')\n",
    "evohh_colors = color_assigner(every_man_on_his_humour_characters, 'navy')\n",
    "votf_colors = color_assigner(volpone_or_the_fox_characters, 'lime')\n",
    "ta_colors = color_assigner(the_alchemist_characters, 'goldenrod')"
   ]
  },
  {
   "cell_type": "code",
   "execution_count": 24,
   "metadata": {
    "scrolled": true
   },
   "outputs": [],
   "source": [
    "jonson_character_colors = {**cr_colors, **evohh_colors, **votf_colors, **ta_colors}"
   ]
  },
  {
   "cell_type": "code",
   "execution_count": 25,
   "metadata": {},
   "outputs": [],
   "source": [
    "jonson_top_7_characters = ['Mercury', 'Amorphus', 'Crites', 'Volpone', 'Mosca', 'Face', 'Subtle']\n",
    "jonson_character_colors_top = color_assigner_top(jonson_characters, jonson_top_7_characters)"
   ]
  },
  {
   "cell_type": "code",
   "execution_count": 26,
   "metadata": {},
   "outputs": [
    {
     "data": {
      "application/vnd.jupyter.widget-view+json": {
       "model_id": "317421a80f5d43198e5181f5c3022d8d",
       "version_major": 2,
       "version_minor": 0
      },
      "text/plain": [
       "interactive(children=(Dropdown(description='Filter', options=('Raw', 'Plays Characters', 'Top Characters'), va…"
      ]
     },
     "metadata": {},
     "output_type": "display_data"
    }
   ],
   "source": [
    "@interact(Filter=['Raw', 'Plays Characters', 'Top Characters'], Distances = [euclidean_distances, cosine_distances], Vectorizer = ['Lexical Style', 'Content Style'])\n",
    "def jonson_authors (Filter, Distances, Vectorizer):\n",
    "    if Filter == 'Raw':\n",
    "        if Vectorizer == 'Lexical Style':\n",
    "            print('                                   Ben Jonson')\n",
    "            dendrogram_plotter(jonson_characters, Distances, 9, 10, vectorizer)\n",
    "        if Vectorizer == 'Contet Style':\n",
    "            print('                                   Ben Jonson')\n",
    "            dendrogram_plotter(jonson_characters, Distances, 9, 10, vectorizer_idf)\n",
    "    if Filter == 'Plays Characters':\n",
    "        if Vectorizer == 'Lexical Style':\n",
    "            print('                                   Ben Jonson')\n",
    "            dendrogram_plotter_color_author(jonson_characters, Distances, 9, 10, jonson_character_colors, vectorizer)\n",
    "        if Vectorizer == 'Content Style':\n",
    "            print('                                   Ben Jonson')\n",
    "            dendrogram_plotter_color_author(jonson_characters, Distances, 9, 10, jonson_character_colors, vectorizer_idf)\n",
    "    if Filter == 'Top Characters':\n",
    "        if Vectorizer == 'Lexical Style':\n",
    "            print('                                   Ben Jonson')\n",
    "            dendrogram_plotter_color_authors_top(jonson_characters, Distances, 9, 10, jonson_character_colors_top, vectorizer)\n",
    "        if Vectorizer == 'Content Style':\n",
    "            print('                                   Ben Jonson')\n",
    "            dendrogram_plotter_color_authors_top(jonson_characters, Distances, 9, 10, jonson_character_colors_top, vectorizer_idf)"
   ]
  },
  {
   "cell_type": "markdown",
   "metadata": {},
   "source": [
    "## William Shakespeare"
   ]
  },
  {
   "cell_type": "code",
   "execution_count": 34,
   "metadata": {
    "scrolled": true
   },
   "outputs": [],
   "source": [
    "m_colors = color_assigner(macbeth_characters, 'magenta')\n",
    "raj_colors = color_assigner(romeo_and_juliet_characters, 'navy')\n",
    "o_colors = color_assigner(othello_characters, 'lime')\n",
    "h_colors = color_assigner(hamlet_characters, 'goldenrod')\n",
    "kl_colors = color_assigner(king_lear_characters, 'skyblue')"
   ]
  },
  {
   "cell_type": "code",
   "execution_count": 35,
   "metadata": {
    "scrolled": true
   },
   "outputs": [],
   "source": [
    "shakespeare_character_colors = {**m_colors, **raj_colors, **o_colors, **h_colors, **kl_colors}"
   ]
  },
  {
   "cell_type": "code",
   "execution_count": 36,
   "metadata": {},
   "outputs": [],
   "source": [
    "shakespeare_top_7_characters = ['Macbeth', 'Romeo', 'Juliet', 'Othello', 'Iago', 'Hamlet', 'Lear']\n",
    "shakespeare_character_colors_top = color_assigner_top(shakespeare_characters, shakespeare_top_7_characters)"
   ]
  },
  {
   "cell_type": "code",
   "execution_count": 41,
   "metadata": {},
   "outputs": [
    {
     "data": {
      "application/vnd.jupyter.widget-view+json": {
       "model_id": "2a1687d4a6be4080bcda443f933ccbd9",
       "version_major": 2,
       "version_minor": 0
      },
      "text/plain": [
       "interactive(children=(Dropdown(description='Filter', options=('Raw', 'Plays Characters', 'Top Characters'), va…"
      ]
     },
     "metadata": {},
     "output_type": "display_data"
    }
   ],
   "source": [
    "@interact(Filter=['Raw', 'Plays Characters', 'Top Characters'], Distances = [euclidean_distances, cosine_distances], Vectorizer = ['Lexical Style', 'Content Style'])\n",
    "def shakespeare_authors (Filter, Distances, Vectorizer):\n",
    "    if Filter == 'Raw':\n",
    "        if Vectorizer == 'Lexical Style':\n",
    "            print('                                 William Shakespeare')\n",
    "            dendrogram_plotter(shakespeare_characters, Distances, 9, 10, vectorizer)\n",
    "        if Vectorizer == 'Content Style':\n",
    "            print('                                 William Shakespeare')\n",
    "            dendrogram_plotter(shakespeare_characters, Distances, 9, 10, vectorizer_idf)\n",
    "    if Filter == 'Plays Characters':\n",
    "        if Vectorizer == 'Lexical Style':\n",
    "            print('                                 William Shakespeare')\n",
    "            dendrogram_plotter_color_author(shakespeare_characters, Distances, 9, 10, shakespeare_character_colors, vectorizer)\n",
    "        if Vectorizer == 'Content Style':\n",
    "            print('                                 William Shakespeare')\n",
    "            dendrogram_plotter_color_author(shakespeare_characters, Distances, 9, 10, shakespeare_character_colors, vectorizer_idf)\n",
    "    if Filter == 'Top Characters':\n",
    "        if Vectorizer == 'Lexical Style':\n",
    "            print('                                 William Shakespeare')\n",
    "            dendrogram_plotter_color_authors_top(shakespeare_characters, Distances, 9, 10, shakespeare_character_colors_top, vectorizer)\n",
    "        if Vectorizer == 'Content Style':\n",
    "            print('                                 William Shakespeare')\n",
    "            dendrogram_plotter_color_authors_top(shakespeare_characters, Distances, 9, 10, shakespeare_character_colors_top, vectorizer_idf)"
   ]
  },
  {
   "cell_type": "markdown",
   "metadata": {},
   "source": [
    "## All english characters together"
   ]
  },
  {
   "cell_type": "code",
   "execution_count": 42,
   "metadata": {
    "scrolled": true
   },
   "outputs": [],
   "source": [
    "all_characters = {**wilde_characters, **shaw_characters, **jonson_characters, **shakespeare_characters}"
   ]
  },
  {
   "cell_type": "code",
   "execution_count": 43,
   "metadata": {
    "scrolled": true
   },
   "outputs": [],
   "source": [
    "# Creating a color dict for every author\n",
    "wilde_color = color_assigner(wilde_characters,'magenta')\n",
    "shaw_color = color_assigner(shaw_characters, 'navy')\n",
    "jonson_color = color_assigner(jonson_characters, 'lime' )\n",
    "shakespeare_color = color_assigner(shakespeare_characters, 'goldenrod')"
   ]
  },
  {
   "cell_type": "code",
   "execution_count": 44,
   "metadata": {
    "scrolled": true
   },
   "outputs": [],
   "source": [
    "english_character_colors = {**wilde_color, **shaw_color, **jonson_color, **shakespeare_color}"
   ]
  },
  {
   "cell_type": "code",
   "execution_count": 47,
   "metadata": {
    "scrolled": true
   },
   "outputs": [
    {
     "data": {
      "application/vnd.jupyter.widget-view+json": {
       "model_id": "025d1bb148494b80929232e199aaf660",
       "version_major": 2,
       "version_minor": 0
      },
      "text/plain": [
       "interactive(children=(Dropdown(description='Distances', options=(<function euclidean_distances at 0x7f5787d6ac…"
      ]
     },
     "metadata": {},
     "output_type": "display_data"
    }
   ],
   "source": [
    "@interact(Distances = [euclidean_distances, cosine_distances], Vectorizer = ['Lexical Style', 'Content Style'])\n",
    "def all_english_characters (Distances, Vectorizer):\n",
    "    if Vectorizer == 'Lexical Style':\n",
    "        dendrogram_plotter_color_all_plays(all_characters, Distances, 15, 10, english_character_colors, vectorizer)\n",
    "    if Vectorizer == 'Content Style':\n",
    "        dendrogram_plotter_color_all_plays(all_characters, Distances, 15, 10, english_character_colors, vectorizer_idf)        "
   ]
  },
  {
   "cell_type": "markdown",
   "metadata": {},
   "source": [
    "# German Authors"
   ]
  },
  {
   "cell_type": "markdown",
   "metadata": {},
   "source": [
    "## Friedrich Schiller"
   ]
  },
  {
   "cell_type": "code",
   "execution_count": 48,
   "metadata": {
    "scrolled": true
   },
   "outputs": [],
   "source": [
    "kul_colors = color_assigner(kabale_und_liebe_characters, 'magenta')\n",
    "dvdfzg_colors = color_assigner(die_verschwoerung_des_fiesco_zu_genua_characters, 'navy')\n",
    "dr_colors = color_assigner(die_räuber_characters, 'lime')\n",
    "djfvo_colors = color_assigner(die_jungfrau_von_orleans_characters, 'goldenrod')"
   ]
  },
  {
   "cell_type": "code",
   "execution_count": 49,
   "metadata": {
    "scrolled": true
   },
   "outputs": [],
   "source": [
    "schiller_character_colors = {**kul_colors, **dvdfzg_colors, **dr_colors, **djfvo_colors}"
   ]
  },
  {
   "cell_type": "code",
   "execution_count": 50,
   "metadata": {},
   "outputs": [],
   "source": [
    "schiller_top_6_characters = ['Ferdinand', 'Luise', 'Fiesco', 'Franz', 'Moor', 'Johanna']\n",
    "schiller_character_colors_top = color_assigner_top(schiller_characters, schiller_top_6_characters)"
   ]
  },
  {
   "cell_type": "code",
   "execution_count": 51,
   "metadata": {},
   "outputs": [
    {
     "data": {
      "application/vnd.jupyter.widget-view+json": {
       "model_id": "160ec7ff85e04984bb9b2f9f0eed9e4d",
       "version_major": 2,
       "version_minor": 0
      },
      "text/plain": [
       "interactive(children=(Dropdown(description='Filter', options=('Raw', 'Plays Characters', 'Top Characters'), va…"
      ]
     },
     "metadata": {},
     "output_type": "display_data"
    }
   ],
   "source": [
    "@interact(Filter=['Raw', 'Plays Characters', 'Top Characters'], Distances = [euclidean_distances, cosine_distances], Vectorizer = ['Lexical Style', 'Content Style'])\n",
    "def schiller_authors (Filter, Distances, Vectorizer):\n",
    "    if Filter == 'Raw':\n",
    "        if Vectorizer == 'Lexical Style':\n",
    "            print('                              Friedrich Schiller')\n",
    "            dendrogram_plotter(schiller_characters, Distances, 9, 10, vectorizer)\n",
    "        if Vectorizer == 'Content Style':\n",
    "            print('                              Friedrich Schiller')\n",
    "            dendrogram_plotter(schiller_characters, Distances, 9, 10, vectorizer_idf)\n",
    "    if Filter == 'Plays Characters':\n",
    "        if Vectorizer == 'Lexical Style':\n",
    "            print('                              Friedrich Schiller')\n",
    "            dendrogram_plotter_color_author(schiller_characters, Distances, 9, 10, schiller_character_colors, vectorizer)\n",
    "        if Vectorizer == 'Content Style':\n",
    "            print('                              Friedrich Schiller')\n",
    "            dendrogram_plotter_color_author(schiller_characters, Distances, 9, 10, schiller_character_colors, vectorizer_idf)\n",
    "    if Filter == 'Top Characters':\n",
    "        if Vectorizer == 'Lexical Style':\n",
    "            print('                              Friedrich Schiller')\n",
    "            dendrogram_plotter_color_authors_top(schiller_characters, Distances, 9, 10, schiller_character_colors_top, vectorizer)\n",
    "        if Vectorizer == 'Content Style':\n",
    "            print('                              Friedrich Schiller')\n",
    "            dendrogram_plotter_color_authors_top(schiller_characters, Distances, 9, 10, schiller_character_colors_top, vectorizer_idf)\n",
    "            \n"
   ]
  },
  {
   "cell_type": "markdown",
   "metadata": {},
   "source": [
    "## Johann Wolfgang von Goethe"
   ]
  },
  {
   "cell_type": "code",
   "execution_count": 52,
   "metadata": {
    "scrolled": true
   },
   "outputs": [],
   "source": [
    "f_colors = color_assigner(faust_1_characters, 'magenta')\n",
    "f2_colors = color_assigner(faust2_characters, 'navy')\n",
    "e_colors = color_assigner(egmont_characters, 'lime')\n",
    "iat_colors = color_assigner(iphigenie_auf_tauris_characters, 'goldenrod')\n",
    "dldv_colors = color_assigner(die_laune_des_verliebten_characters, 'skyblue')"
   ]
  },
  {
   "cell_type": "code",
   "execution_count": 53,
   "metadata": {
    "scrolled": true
   },
   "outputs": [],
   "source": [
    "goethe_character_colors = {**f_colors, **f2_colors, **e_colors, **iat_colors, **dldv_colors}"
   ]
  },
  {
   "cell_type": "code",
   "execution_count": 54,
   "metadata": {},
   "outputs": [],
   "source": [
    "goethe_top_6_characters = ['Faust', 'Mephistopheles', 'Faust II', 'Mephistopheles II', 'Egmont', 'Iphigenie']\n",
    "goethe_character_colors_top = color_assigner_top(goethe_characters, goethe_top_6_characters)"
   ]
  },
  {
   "cell_type": "code",
   "execution_count": 56,
   "metadata": {},
   "outputs": [
    {
     "data": {
      "application/vnd.jupyter.widget-view+json": {
       "model_id": "14b5870c6a49486083d1cb77ee3535db",
       "version_major": 2,
       "version_minor": 0
      },
      "text/plain": [
       "interactive(children=(Dropdown(description='Filter', options=('Raw', 'Plays Characters', 'Top Characters'), va…"
      ]
     },
     "metadata": {},
     "output_type": "display_data"
    }
   ],
   "source": [
    "@interact(Filter=['Raw', 'Plays Characters', 'Top Characters'], Distances = [euclidean_distances, cosine_distances], Vectorizer = ['Lexical Style', 'Content Style'])\n",
    "def goethe_authors (Filter, Distances, Vectorizer):\n",
    "    if Filter == 'Raw':\n",
    "        if Vectorizer == 'Lexical Style': \n",
    "            print('                               Johann Wolfgang von Goethe')\n",
    "            dendrogram_plotter(goethe_characters, Distances, 9, 10, vectorizer)\n",
    "        if Vectorixer == 'Content Style':\n",
    "            print('                               Johann Wolfgang von Goethe')\n",
    "            dendrogram_plotter(goethe_characters, Distances, 9, 10, vectorizer_idf)\n",
    "    if Filter == 'Plays Characters':\n",
    "        if Vectorizer == 'Lexical Style':\n",
    "            print('                               Johann Wolfgang von Goethe')\n",
    "            dendrogram_plotter_color_author(goethe_characters, Distances, 9, 10, goethe_character_colors, vectorizer)\n",
    "        if Vectorizer == 'Content Style':\n",
    "            print('                               Johann Wolfgang von Goethe')\n",
    "            dendrogram_plotter_color_author(goethe_characters, Distances, 9, 10, goethe_character_colors, vectorizer_idf)\n",
    "    if Filter == 'Top Characters':\n",
    "        if Vectorizer == 'Lexical Style':\n",
    "            print('                               Johann Wolfgang von Goethe')\n",
    "            dendrogram_plotter_color_authors_top(goethe_characters, Distances, 9, 10, goethe_character_colors_top, vectorizer)\n",
    "        if Vectorizer == 'Content Style':\n",
    "            print('                               Johann Wolfgang von Goethe')\n",
    "            dendrogram_plotter_color_authors_top(goethe_characters, Distances, 9, 10, goethe_character_colors_top, vectorizer_idf)"
   ]
  },
  {
   "cell_type": "markdown",
   "metadata": {},
   "source": [
    "## All german characters together"
   ]
  },
  {
   "cell_type": "code",
   "execution_count": 58,
   "metadata": {
    "scrolled": true
   },
   "outputs": [],
   "source": [
    "all_german_characters = {**schiller_characters, **goethe_characters}"
   ]
  },
  {
   "cell_type": "code",
   "execution_count": 59,
   "metadata": {
    "scrolled": true
   },
   "outputs": [],
   "source": [
    "schiller_color = color_assigner(schiller_characters, 'magenta')\n",
    "goethe_color = color_assigner(goethe_characters, 'navy')"
   ]
  },
  {
   "cell_type": "code",
   "execution_count": 60,
   "metadata": {
    "scrolled": true
   },
   "outputs": [],
   "source": [
    "german_character_colors = {**schiller_color, **goethe_color}"
   ]
  },
  {
   "cell_type": "code",
   "execution_count": 61,
   "metadata": {
    "scrolled": true
   },
   "outputs": [
    {
     "data": {
      "application/vnd.jupyter.widget-view+json": {
       "model_id": "4015c81dc4d942e0a18255c9352de132",
       "version_major": 2,
       "version_minor": 0
      },
      "text/plain": [
       "interactive(children=(Dropdown(description='Distances', options=(<function euclidean_distances at 0x7f5787d6ac…"
      ]
     },
     "metadata": {},
     "output_type": "display_data"
    }
   ],
   "source": [
    "@interact(Distances = [euclidean_distances, cosine_distances], Vectorizer = ['Lexical Style', 'Content Style'])\n",
    "def both_german_characters (Distances, Vectorizer):\n",
    "    if Vectorizer == 'Lexical Style':\n",
    "        dendrogram_plotter_color_all_plays(all_german_characters, Distances, 12, 10, german_character_colors, vectorizer)\n",
    "    if Vectorizer == 'Content Style':\n",
    "        dendrogram_plotter_color_all_plays(all_german_characters, Distances, 12, 10, german_character_colors, vectorizer_idf)"
   ]
  },
  {
   "cell_type": "code",
   "execution_count": null,
   "metadata": {},
   "outputs": [],
   "source": []
  },
  {
   "cell_type": "code",
   "execution_count": null,
   "metadata": {},
   "outputs": [],
   "source": []
  }
 ],
 "metadata": {
  "celltoolbar": "Raw Cell Format",
  "kernelspec": {
   "display_name": "Python 3",
   "language": "python",
   "name": "python3"
  },
  "language_info": {
   "codemirror_mode": {
    "name": "ipython",
    "version": 3
   },
   "file_extension": ".py",
   "mimetype": "text/x-python",
   "name": "python",
   "nbconvert_exporter": "python",
   "pygments_lexer": "ipython3",
   "version": "3.7.3"
  }
 },
 "nbformat": 4,
 "nbformat_minor": 2
}
