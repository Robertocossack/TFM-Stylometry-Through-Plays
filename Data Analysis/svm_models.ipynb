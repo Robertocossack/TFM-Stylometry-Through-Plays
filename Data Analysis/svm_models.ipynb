{
 "cells": [
  {
   "cell_type": "markdown",
   "metadata": {},
   "source": [
    "# SVM CLASSIFIER MODELS"
   ]
  },
  {
   "cell_type": "code",
   "execution_count": 2,
   "metadata": {},
   "outputs": [],
   "source": [
    "import pandas as pd\n",
    "import nltk\n",
    "import re\n",
    "from sklearn.pipeline import make_pipeline\n",
    "from sklearn.svm import SVC\n",
    "from sklearn.model_selection import cross_validate\n",
    "from sklearn.feature_extraction.text import TfidfVectorizer"
   ]
  },
  {
   "cell_type": "code",
   "execution_count": 3,
   "metadata": {},
   "outputs": [],
   "source": [
    "%store -r"
   ]
  },
  {
   "cell_type": "markdown",
   "metadata": {},
   "source": [
    "### Functions"
   ]
  },
  {
   "cell_type": "code",
   "execution_count": 4,
   "metadata": {},
   "outputs": [],
   "source": [
    "def partition (char_sens, n):\n",
    "    '''Splits a list of sentences into \n",
    "    n parts, of equall, or close to equal \n",
    "    number of sentences'''\n",
    "    return [char_sens[i::n] for i in range(n)]"
   ]
  },
  {
   "cell_type": "code",
   "execution_count": 5,
   "metadata": {},
   "outputs": [],
   "source": [
    "def corpus_split (play_characters, n):\n",
    "    '''Takes a dict as input and performs n partitions,\n",
    "    as list of sentences, in every value for every key'''\n",
    "    play_characters_part = {}\n",
    "    for char in play_characters.keys():\n",
    "        play_characters_part[char] = partition(play_characters[char], n)\n",
    "    return play_characters_part  "
   ]
  },
  {
   "cell_type": "code",
   "execution_count": 6,
   "metadata": {},
   "outputs": [],
   "source": [
    "def data_modeling (author_characters_split):\n",
    "    '''It takes a dict of characters:split-speech-lines form,\n",
    "    and makes a data frame out of it, where every row contains\n",
    "    one single partition out of the total five for each character'''\n",
    "    x = [item[0] for item in author_characters_split.items()]\n",
    "    df1 = pd.DataFrame({'Characters': x[0], 'Corpuses': author_characters_split[x[0]]})\n",
    "    for row in x[1:]:\n",
    "        df2 = pd.DataFrame({'Characters': row, 'Corpuses': author_characters_split[row]})\n",
    "        df1 = pd.concat([df1, df2])\n",
    "    return df1"
   ]
  },
  {
   "cell_type": "code",
   "execution_count": 7,
   "metadata": {},
   "outputs": [],
   "source": [
    "def list_generator (file):\n",
    "    '''Generates a list of words from a file'''\n",
    "    f = open(file, \"r\")\n",
    "    contents = f.read()         \n",
    "    f.close() \n",
    "    words = re.findall(r\"\\w+\", contents)\n",
    "   \n",
    "    return words"
   ]
  },
  {
   "cell_type": "markdown",
   "metadata": {},
   "source": [
    "### Vectorizers"
   ]
  },
  {
   "cell_type": "code",
   "execution_count": 8,
   "metadata": {},
   "outputs": [],
   "source": [
    "# German stop list words for german vectorizers\n",
    "german_sw = list_generator('german_stop_words.txt')"
   ]
  },
  {
   "cell_type": "code",
   "execution_count": 9,
   "metadata": {},
   "outputs": [],
   "source": [
    "wsw_vectorizer = TfidfVectorizer(stop_words = 'english')\n",
    "wsw_g_vectorizer = TfidfVectorizer(stop_words = german_sw)\n",
    "bgram_vectorizer = TfidfVectorizer(ngram_range =(2,2))\n",
    "char_ngram_vectorizer = TfidfVectorizer(analyzer = 'word', ngram_range =(1,3), stop_words = 'english')\n",
    "char_g_ngram_vectorizer = TfidfVectorizer(analyzer = 'word', ngram_range =(1,3), stop_words = german_sw)"
   ]
  },
  {
   "cell_type": "markdown",
   "metadata": {},
   "source": [
    "### Models"
   ]
  },
  {
   "cell_type": "code",
   "execution_count": 10,
   "metadata": {},
   "outputs": [],
   "source": [
    "svm_clf = make_pipeline(TfidfVectorizer(), SVC(kernel='linear'))\n",
    "wsw_svm_clf = make_pipeline(wsw_vectorizer, SVC(kernel='linear'))\n",
    "wsw_g_svm_clf = make_pipeline(wsw_g_vectorizer, SVC(kernel='linear'))\n",
    "bgram_svm_clf = make_pipeline(bgram_vectorizer, SVC(kernel='linear'))\n",
    "char_ngram_svm_clf = make_pipeline(char_ngram_vectorizer, SVC(kernel='linear'))\n",
    "char_g_ngram_svm_clf = make_pipeline(char_g_ngram_vectorizer, SVC(kernel='linear'))"
   ]
  },
  {
   "cell_type": "markdown",
   "metadata": {},
   "source": [
    "## Oscar Wilde "
   ]
  },
  {
   "cell_type": "code",
   "execution_count": 11,
   "metadata": {},
   "outputs": [],
   "source": [
    "wilde_split = corpus_split(wilde_characters, 5)\n",
    "wilde_df = data_modeling(wilde_split)\n",
    "wilde_y = wilde_df['Characters']\n",
    "wilde_X = wilde_df['Corpuses'].apply(lambda x : \"\".join(x))"
   ]
  },
  {
   "cell_type": "markdown",
   "metadata": {},
   "source": [
    "### Results"
   ]
  },
  {
   "cell_type": "markdown",
   "metadata": {},
   "source": [
    "#### SVM classifier "
   ]
  },
  {
   "cell_type": "code",
   "execution_count": 11,
   "metadata": {},
   "outputs": [
    {
     "data": {
      "text/plain": [
       "0.9428571428571428"
      ]
     },
     "execution_count": 11,
     "metadata": {},
     "output_type": "execute_result"
    }
   ],
   "source": [
    "wilde_scores = cross_validate(svm_clf, wilde_X, wilde_y, scoring=['accuracy'], cv=5, return_train_score=False)\n",
    "wilde_scores['test_accuracy'].mean()"
   ]
  },
  {
   "cell_type": "markdown",
   "metadata": {},
   "source": [
    "#### SVM classifier without stop words"
   ]
  },
  {
   "cell_type": "code",
   "execution_count": 12,
   "metadata": {},
   "outputs": [
    {
     "data": {
      "text/plain": [
       "0.9047619047619048"
      ]
     },
     "execution_count": 12,
     "metadata": {},
     "output_type": "execute_result"
    }
   ],
   "source": [
    "bgram_wilde_scores = cross_validate(bgram_svm_clf, wilde_X, wilde_y, scoring=['accuracy'], cv=5, return_train_score=False)\n",
    "bgram_wilde_scores['test_accuracy'].mean()"
   ]
  },
  {
   "cell_type": "markdown",
   "metadata": {},
   "source": [
    "#### SVM classifier with word bi-grams"
   ]
  },
  {
   "cell_type": "code",
   "execution_count": 13,
   "metadata": {
    "scrolled": true
   },
   "outputs": [
    {
     "data": {
      "text/plain": [
       "0.9333333333333333"
      ]
     },
     "execution_count": 13,
     "metadata": {},
     "output_type": "execute_result"
    }
   ],
   "source": [
    "wsw_wilde_scores = cross_validate(wsw_svm_clf, wilde_X, wilde_y, scoring=['accuracy'], cv=5, return_train_score=False)\n",
    "wsw_wilde_scores['test_accuracy'].mean()"
   ]
  },
  {
   "cell_type": "markdown",
   "metadata": {},
   "source": [
    "#### SVM classifier without stop words and with character-grams in range 1 to 3"
   ]
  },
  {
   "cell_type": "code",
   "execution_count": 49,
   "metadata": {},
   "outputs": [
    {
     "data": {
      "text/plain": [
       "0.8857142857142858"
      ]
     },
     "execution_count": 49,
     "metadata": {},
     "output_type": "execute_result"
    }
   ],
   "source": [
    "char_ngram_wilde_scores = cross_validate(char_ngram_svm_clf, wilde_X, wilde_y, scoring=['accuracy'], cv=5, return_train_score=False)\n",
    "char_ngram_wilde_scores['test_accuracy'].mean()"
   ]
  },
  {
   "cell_type": "markdown",
   "metadata": {},
   "source": [
    "## George Bernard Shaw "
   ]
  },
  {
   "cell_type": "code",
   "execution_count": 14,
   "metadata": {},
   "outputs": [],
   "source": [
    "shaw_split = corpus_split(shaw_characters,5)\n",
    "shaw_df = data_modeling(shaw_split)\n",
    "shaw_y = shaw_df['Characters']\n",
    "shaw_X = shaw_df['Corpuses'].apply(lambda x : \"\".join(x))"
   ]
  },
  {
   "cell_type": "markdown",
   "metadata": {},
   "source": [
    "### Results"
   ]
  },
  {
   "cell_type": "markdown",
   "metadata": {},
   "source": [
    "#### SVM classifier "
   ]
  },
  {
   "cell_type": "code",
   "execution_count": 15,
   "metadata": {},
   "outputs": [
    {
     "data": {
      "text/plain": [
       "0.9826086956521738"
      ]
     },
     "execution_count": 15,
     "metadata": {},
     "output_type": "execute_result"
    }
   ],
   "source": [
    "shaw_scores = cross_validate(svm_clf, shaw_X, shaw_y, scoring=['accuracy'], cv=5, return_train_score=False)\n",
    "shaw_scores['test_accuracy'].mean()"
   ]
  },
  {
   "cell_type": "markdown",
   "metadata": {},
   "source": [
    "#### SVM classifier without stop words"
   ]
  },
  {
   "cell_type": "code",
   "execution_count": 16,
   "metadata": {},
   "outputs": [
    {
     "data": {
      "text/plain": [
       "0.9217391304347826"
      ]
     },
     "execution_count": 16,
     "metadata": {},
     "output_type": "execute_result"
    }
   ],
   "source": [
    "bgram_shaw_scores = cross_validate(bgram_svm_clf, shaw_X, shaw_y, scoring=['accuracy'], cv=5, return_train_score=False)\n",
    "bgram_shaw_scores['test_accuracy'].mean()"
   ]
  },
  {
   "cell_type": "markdown",
   "metadata": {},
   "source": [
    "#### SVM classifier with word bi-grams"
   ]
  },
  {
   "cell_type": "code",
   "execution_count": 20,
   "metadata": {},
   "outputs": [
    {
     "data": {
      "text/plain": [
       "1.0"
      ]
     },
     "execution_count": 20,
     "metadata": {},
     "output_type": "execute_result"
    }
   ],
   "source": [
    "wsw_shaw_scores = cross_validate(wsw_svm_clf, shaw_X, shaw_y, scoring=['accuracy'], cv=5, return_train_score=False)\n",
    "wsw_shaw_scores['test_accuracy'].mean()"
   ]
  },
  {
   "cell_type": "markdown",
   "metadata": {},
   "source": [
    "#### SVM classifier without stop words and with character-grams in range 1 to 3"
   ]
  },
  {
   "cell_type": "code",
   "execution_count": 50,
   "metadata": {},
   "outputs": [
    {
     "data": {
      "text/plain": [
       "0.9739130434782608"
      ]
     },
     "execution_count": 50,
     "metadata": {},
     "output_type": "execute_result"
    }
   ],
   "source": [
    "char_ngram_shaw_scores = cross_validate(char_ngram_svm_clf, shaw_X, shaw_y, scoring=['accuracy'], cv=5, return_train_score=False)\n",
    "char_ngram_shaw_scores['test_accuracy'].mean()"
   ]
  },
  {
   "cell_type": "markdown",
   "metadata": {},
   "source": [
    "## Ben Jonson"
   ]
  },
  {
   "cell_type": "code",
   "execution_count": 21,
   "metadata": {},
   "outputs": [],
   "source": [
    "jonson_split = corpus_split(jonson_characters, 5)\n",
    "jonson_df = data_modeling(jonson_split)\n",
    "jonson_y = jonson_df['Characters']\n",
    "jonson_X = jonson_df['Corpuses'].apply(lambda x : \"\".join(x))"
   ]
  },
  {
   "cell_type": "markdown",
   "metadata": {},
   "source": [
    "### Results"
   ]
  },
  {
   "cell_type": "markdown",
   "metadata": {},
   "source": [
    "#### SVM classifier "
   ]
  },
  {
   "cell_type": "code",
   "execution_count": 22,
   "metadata": {},
   "outputs": [
    {
     "data": {
      "text/plain": [
       "0.9"
      ]
     },
     "execution_count": 22,
     "metadata": {},
     "output_type": "execute_result"
    }
   ],
   "source": [
    "jonson_scores = cross_validate(svm_clf, jonson_X, jonson_y, scoring=['accuracy'], cv=5, return_train_score=False)\n",
    "jonson_scores['test_accuracy'].mean()"
   ]
  },
  {
   "cell_type": "markdown",
   "metadata": {},
   "source": [
    "#### SVM classifier without stop words"
   ]
  },
  {
   "cell_type": "code",
   "execution_count": 23,
   "metadata": {},
   "outputs": [
    {
     "data": {
      "text/plain": [
       "0.9"
      ]
     },
     "execution_count": 23,
     "metadata": {},
     "output_type": "execute_result"
    }
   ],
   "source": [
    "bgram_jonson_scores = cross_validate(bgram_svm_clf, jonson_X, jonson_y, scoring=['accuracy'], cv=5, return_train_score=False)\n",
    "bgram_jonson_scores['test_accuracy'].mean()"
   ]
  },
  {
   "cell_type": "markdown",
   "metadata": {},
   "source": [
    "#### SVM classifier with word bi-grams"
   ]
  },
  {
   "cell_type": "code",
   "execution_count": 24,
   "metadata": {},
   "outputs": [
    {
     "data": {
      "text/plain": [
       "0.990909090909091"
      ]
     },
     "execution_count": 24,
     "metadata": {},
     "output_type": "execute_result"
    }
   ],
   "source": [
    "wsw_jonson_scores = cross_validate(wsw_svm_clf, jonson_X, jonson_y, scoring=['accuracy'], cv=5, return_train_score=False)\n",
    "wsw_jonson_scores['test_accuracy'].mean()"
   ]
  },
  {
   "cell_type": "markdown",
   "metadata": {},
   "source": [
    "#### SVM classifier without stop words and with character-grams in range 1 to 3"
   ]
  },
  {
   "cell_type": "code",
   "execution_count": 51,
   "metadata": {},
   "outputs": [
    {
     "data": {
      "text/plain": [
       "0.9454545454545455"
      ]
     },
     "execution_count": 51,
     "metadata": {},
     "output_type": "execute_result"
    }
   ],
   "source": [
    "char_ngram_jonson_scores = cross_validate(char_ngram_svm_clf, jonson_X, jonson_y, scoring=['accuracy'], cv=5, return_train_score=False)\n",
    "char_ngram_jonson_scores['test_accuracy'].mean()"
   ]
  },
  {
   "cell_type": "markdown",
   "metadata": {},
   "source": [
    "## William Shakespeare"
   ]
  },
  {
   "cell_type": "code",
   "execution_count": 25,
   "metadata": {},
   "outputs": [],
   "source": [
    "shakespeare_split = corpus_split(shakespeare_characters, 5)\n",
    "shakespeare_df = data_modeling(shakespeare_split)\n",
    "shakespeare_y = shakespeare_df['Characters']\n",
    "shakespeare_X = shakespeare_df['Corpuses'].apply(lambda x : \"\".join(x))"
   ]
  },
  {
   "cell_type": "markdown",
   "metadata": {},
   "source": [
    "### Results"
   ]
  },
  {
   "cell_type": "markdown",
   "metadata": {},
   "source": [
    "#### SVM classifier "
   ]
  },
  {
   "cell_type": "code",
   "execution_count": 26,
   "metadata": {},
   "outputs": [
    {
     "data": {
      "text/plain": [
       "0.819047619047619"
      ]
     },
     "execution_count": 26,
     "metadata": {},
     "output_type": "execute_result"
    }
   ],
   "source": [
    "shakespeare_scores = cross_validate(svm_clf, shakespeare_X, shakespeare_y, scoring=['accuracy'], cv=5, return_train_score=False)\n",
    "shakespeare_scores['test_accuracy'].mean()"
   ]
  },
  {
   "cell_type": "markdown",
   "metadata": {},
   "source": [
    "#### SVM classifier without stop words"
   ]
  },
  {
   "cell_type": "code",
   "execution_count": 27,
   "metadata": {},
   "outputs": [
    {
     "data": {
      "text/plain": [
       "0.8666666666666668"
      ]
     },
     "execution_count": 27,
     "metadata": {},
     "output_type": "execute_result"
    }
   ],
   "source": [
    "bgram_shakespeare_scores = cross_validate(bgram_svm_clf, shakespeare_X, shakespeare_y, scoring=['accuracy'], cv=5, return_train_score=False)\n",
    "bgram_shakespeare_scores['test_accuracy'].mean()"
   ]
  },
  {
   "cell_type": "markdown",
   "metadata": {},
   "source": [
    "#### SVM classifier with word bi-grams"
   ]
  },
  {
   "cell_type": "code",
   "execution_count": 28,
   "metadata": {},
   "outputs": [
    {
     "data": {
      "text/plain": [
       "0.9428571428571428"
      ]
     },
     "execution_count": 28,
     "metadata": {},
     "output_type": "execute_result"
    }
   ],
   "source": [
    "wsw_shakespeare_scores = cross_validate(wsw_svm_clf, shakespeare_X, shakespeare_y, scoring=['accuracy'], cv=5, return_train_score=False)\n",
    "wsw_shakespeare_scores['test_accuracy'].mean()"
   ]
  },
  {
   "cell_type": "markdown",
   "metadata": {},
   "source": [
    "#### SVM classifier without stop words and with character-grams in range 1 to 3"
   ]
  },
  {
   "cell_type": "code",
   "execution_count": 52,
   "metadata": {},
   "outputs": [
    {
     "data": {
      "text/plain": [
       "0.9142857142857144"
      ]
     },
     "execution_count": 52,
     "metadata": {},
     "output_type": "execute_result"
    }
   ],
   "source": [
    "char_ngram_shakespeare_scores = cross_validate(char_ngram_svm_clf, shakespeare_X, shakespeare_y, scoring=['accuracy'], cv=5, return_train_score=False)\n",
    "char_ngram_shakespeare_scores['test_accuracy'].mean()"
   ]
  },
  {
   "cell_type": "markdown",
   "metadata": {},
   "source": [
    "## Friedrich Schiller"
   ]
  },
  {
   "cell_type": "code",
   "execution_count": 29,
   "metadata": {},
   "outputs": [],
   "source": [
    "schiller_split = corpus_split(schiller_characters, 5)\n",
    "schiller_df = data_modeling(schiller_split)\n",
    "schiller_y = schiller_df['Characters']\n",
    "schiller_X = schiller_df['Corpuses'].apply(lambda x : \"\".join(x))"
   ]
  },
  {
   "cell_type": "markdown",
   "metadata": {},
   "source": [
    "### Results"
   ]
  },
  {
   "cell_type": "markdown",
   "metadata": {},
   "source": [
    "#### SVM classifier "
   ]
  },
  {
   "cell_type": "code",
   "execution_count": 30,
   "metadata": {},
   "outputs": [
    {
     "data": {
      "text/plain": [
       "0.8941176470588236"
      ]
     },
     "execution_count": 30,
     "metadata": {},
     "output_type": "execute_result"
    }
   ],
   "source": [
    "schiller_scores = cross_validate(svm_clf, schiller_X, schiller_y, scoring=['accuracy'], cv=5, return_train_score=False)\n",
    "schiller_scores['test_accuracy'].mean()"
   ]
  },
  {
   "cell_type": "markdown",
   "metadata": {},
   "source": [
    "#### SVM classifier without stop words"
   ]
  },
  {
   "cell_type": "code",
   "execution_count": 31,
   "metadata": {},
   "outputs": [
    {
     "data": {
      "text/plain": [
       "0.9411764705882353"
      ]
     },
     "execution_count": 31,
     "metadata": {},
     "output_type": "execute_result"
    }
   ],
   "source": [
    "bgram_schiller_scores = cross_validate(bgram_svm_clf, schiller_X, schiller_y, scoring=['accuracy'], cv=5, return_train_score=False)\n",
    "bgram_schiller_scores['test_accuracy'].mean()"
   ]
  },
  {
   "cell_type": "markdown",
   "metadata": {},
   "source": [
    "#### SVM classifier with word bi-grams"
   ]
  },
  {
   "cell_type": "code",
   "execution_count": 32,
   "metadata": {},
   "outputs": [
    {
     "data": {
      "text/plain": [
       "0.9882352941176471"
      ]
     },
     "execution_count": 32,
     "metadata": {},
     "output_type": "execute_result"
    }
   ],
   "source": [
    "wsw_schiller_scores = cross_validate(wsw_g_svm_clf, schiller_X, schiller_y, scoring=['accuracy'], cv=5, return_train_score=False)\n",
    "wsw_schiller_scores['test_accuracy'].mean()"
   ]
  },
  {
   "cell_type": "markdown",
   "metadata": {},
   "source": [
    "#### SVM classifier without stop words and with character-grams in range 1 to 3"
   ]
  },
  {
   "cell_type": "code",
   "execution_count": 53,
   "metadata": {},
   "outputs": [
    {
     "data": {
      "text/plain": [
       "0.9411764705882353"
      ]
     },
     "execution_count": 53,
     "metadata": {},
     "output_type": "execute_result"
    }
   ],
   "source": [
    "char_ngram_schiller_scores = cross_validate(char_g_ngram_svm_clf, schiller_X, schiller_y, scoring=['accuracy'], cv=5, return_train_score=False)\n",
    "char_ngram_schiller_scores['test_accuracy'].mean()"
   ]
  },
  {
   "cell_type": "markdown",
   "metadata": {},
   "source": [
    "## Johann Wolfgang von Goethe"
   ]
  },
  {
   "cell_type": "code",
   "execution_count": 33,
   "metadata": {},
   "outputs": [],
   "source": [
    "goethe_split = corpus_split(goethe_characters, 5)\n",
    "goethe_df = data_modeling(goethe_split)\n",
    "goethe_y = goethe_df['Characters']\n",
    "goethe_X = goethe_df['Corpuses'].apply(lambda x : \"\".join(x))"
   ]
  },
  {
   "cell_type": "markdown",
   "metadata": {},
   "source": [
    "### Results"
   ]
  },
  {
   "cell_type": "markdown",
   "metadata": {},
   "source": [
    "#### SVM classifier "
   ]
  },
  {
   "cell_type": "code",
   "execution_count": 34,
   "metadata": {},
   "outputs": [
    {
     "data": {
      "text/plain": [
       "0.6933333333333334"
      ]
     },
     "execution_count": 34,
     "metadata": {},
     "output_type": "execute_result"
    }
   ],
   "source": [
    "goethe_scores = cross_validate(svm_clf, goethe_X, goethe_y, scoring=['accuracy'], cv=5, return_train_score=False)\n",
    "goethe_scores['test_accuracy'].mean()"
   ]
  },
  {
   "cell_type": "markdown",
   "metadata": {},
   "source": [
    "#### SVM classifier without stop words"
   ]
  },
  {
   "cell_type": "code",
   "execution_count": 35,
   "metadata": {},
   "outputs": [
    {
     "data": {
      "text/plain": [
       "0.6799999999999999"
      ]
     },
     "execution_count": 35,
     "metadata": {},
     "output_type": "execute_result"
    }
   ],
   "source": [
    "bgram_goethe_scores = cross_validate(bgram_svm_clf, goethe_X, goethe_y, scoring=['accuracy'], cv=5, return_train_score=False)\n",
    "bgram_goethe_scores['test_accuracy'].mean()"
   ]
  },
  {
   "cell_type": "markdown",
   "metadata": {},
   "source": [
    "#### SVM classifier with word bi-grams"
   ]
  },
  {
   "cell_type": "code",
   "execution_count": 36,
   "metadata": {},
   "outputs": [
    {
     "data": {
      "text/plain": [
       "0.9199999999999999"
      ]
     },
     "execution_count": 36,
     "metadata": {},
     "output_type": "execute_result"
    }
   ],
   "source": [
    "wsw_goethe_scores = cross_validate(wsw_g_svm_clf, goethe_X, goethe_y, scoring=['accuracy'], cv=5, return_train_score=False)\n",
    "wsw_goethe_scores['test_accuracy'].mean()"
   ]
  },
  {
   "cell_type": "markdown",
   "metadata": {},
   "source": [
    "#### SVM classifier without stop words and with character-grams in range 1 to 3"
   ]
  },
  {
   "cell_type": "code",
   "execution_count": 54,
   "metadata": {},
   "outputs": [
    {
     "data": {
      "text/plain": [
       "0.6933333333333332"
      ]
     },
     "execution_count": 54,
     "metadata": {},
     "output_type": "execute_result"
    }
   ],
   "source": [
    "char_ngram_goethe_scores = cross_validate(char_g_ngram_svm_clf, goethe_X, goethe_y, scoring=['accuracy'], cv=5, return_train_score=False)\n",
    "char_ngram_goethe_scores['test_accuracy'].mean()"
   ]
  },
  {
   "cell_type": "code",
   "execution_count": null,
   "metadata": {},
   "outputs": [],
   "source": []
  }
 ],
 "metadata": {
  "kernelspec": {
   "display_name": "Python 3",
   "language": "python",
   "name": "python3"
  },
  "language_info": {
   "codemirror_mode": {
    "name": "ipython",
    "version": 3
   },
   "file_extension": ".py",
   "mimetype": "text/x-python",
   "name": "python",
   "nbconvert_exporter": "python",
   "pygments_lexer": "ipython3",
   "version": "3.7.3"
  }
 },
 "nbformat": 4,
 "nbformat_minor": 2
}
